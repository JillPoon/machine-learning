{
 "cells": [
  {
   "cell_type": "markdown",
   "metadata": {},
   "source": [
    "## 回归问题 (Linear Regression)\n",
    "\n",
    "### Univariate Linear Regression (一元线性回归)\n",
    "\n",
    "| Symbol | Description |\n",
    "| --- | ---\n",
    "| m | Number of training set |\n",
    "| $\\theta_i$| Parameters (参数) |\n",
    "| x | Feature (特征) |\n",
    "| y | 预测值 |\n",
    "\n",
    "\n",
    "**Hypothesis (假设函数):**\n",
    "$$h_\\theta(x) = \\theta_0 + \\theta_1x$$\n",
    "\n",
    "**Parameters (参数):**\n",
    "$$\\theta_0,\\;\\theta_1$$\n",
    "\n",
    "**Cost Function (损失函数):**\n",
    "$$J(\\theta_0,\\;\\theta_1) = \\frac{1}{2m}\\sum^{m}_{k=1}(h_\\theta(x^i)-y^i)^2$$\n",
    "\n",
    "**Goal (最优化):**\n",
    "$${\\underset{\\theta_0,\\;\\theta_1}{minimize}}\\:J(\\theta_0,\\;\\theta_1)$$"
   ]
  },
  {
   "cell_type": "code",
   "execution_count": 1,
   "metadata": {},
   "outputs": [
    {
     "data": {
      "text/plain": [
       "(1.31, -0.19, <Figure size 432x288 with 1 Axes>)"
      ]
     },
     "execution_count": 1,
     "metadata": {},
     "output_type": "execute_result"
    },
    {
     "data": {
      "image/png": "[encoded data removed]",
      "text/plain": [
       "<Figure size 432x288 with 1 Axes>"
      ]
     },
     "metadata": {
      "needs_background": "light"
     },
     "output_type": "display_data"
    }
   ],
   "source": [
    "import numpy as np\n",
    "import matplotlib.pyplot as plt\n",
    "from sklearn.linear_model import LinearRegression\n",
    "\n",
    "def cost(x1, x2):\n",
    "    \"\"\"\n",
    "    损失函数\n",
    "    \"\"\"\n",
    "    return .5 * np.square(x1 - x2).mean()\n",
    "\n",
    "def linear_plot():\n",
    "    \"\"\"\n",
    "    参数:无\n",
    "    返回:\n",
    "    w -- 自变量系数, 保留两位小数\n",
    "    b -- 截距项, 保留两位小数\n",
    "    fig -- matplotlib 绘图对象\n",
    "    \"\"\"\n",
    "    data = [[5.06, 5.79], [4.92, 6.61], [4.67, 5.48], [4.54, 6.11], [4.26, 6.39],\n",
    "            [4.07, 4.81], [4.01, 4.16], [4.01, 5.55], [3.66, 5.05], [3.43, 4.34],\n",
    "            [3.12, 3.24], [3.02, 4.80], [2.87, 4.01], [2.64, 3.17], [2.48, 1.61],\n",
    "            [2.48, 2.62], [2.02, 2.50], [1.95, 3.59], [1.79, 1.49], [1.54, 2.10]]\n",
    "    \n",
    "    data=np.array(data)\n",
    "    x=np.array(data[:,0])\n",
    "    y=np.array(data[:,1])\n",
    "    fig=plt.figure()\n",
    "    plt.scatter(x,y)\n",
    "    x_mean = np.mean(x)\n",
    "    y_mean = np.mean(y)\n",
    " \n",
    "    up = np.sum((x - x_mean) * (y- y_mean))\n",
    "    down = np.sum((x - x_mean) * (x - x_mean))\n",
    "    w= up / down\n",
    "    w=np.round(w,2)\n",
    "    b= y_mean - w* x_mean\n",
    "    b=np.round(b,2)\n",
    "    plt.plot(x,w*x+b,c='red')\n",
    "    \n",
    "    return w,b,fig\n",
    "\n",
    "linear_plot()"
   ]
  },
  {
   "cell_type": "markdown",
   "metadata": {},
   "source": [
    "### Gradient Descent (梯度下降)\n",
    "\n",
    "| Symbol | Description |\n",
    "| --- | ---\n",
    "| $\\alpha$ | learning rate (学习率, 步长) |\n",
    "\n",
    "**Want:** min J($\\theta_0,\\theta_1$)\n",
    "\n",
    "repeat until convergence { <br/>\n",
    "　　$\\theta_j := \\theta_j - \\alpha\\frac{∂}{∂\\theta_j}J(\\theta_0,\\,\\theta_1)$ (for j = 0 and j = 1)<br/>\n",
    "\\}\n",
    "\n",
    "Correct: Simultaneous update <br/>\n",
    "temp0 := $\\theta_0 - \\alpha\\frac{∂}{∂\\theta_0}J(\\theta_0,\\,\\theta_1)$<br/>\n",
    "temp1 := $\\theta_1 - \\alpha\\frac{∂}{∂\\theta_1}J(\\theta_0,\\,\\theta_1)$<br/>\n",
    "$\\theta_0$ := temp0<br/>\n",
    "$\\theta_1$ := temp1\n",
    "\n"
   ]
  },
  {
   "cell_type": "code",
   "execution_count": null,
   "metadata": {},
   "outputs": [],
   "source": []
  }
 ],
 "metadata": {
  "kernelspec": {
   "display_name": "Python 3",
   "language": "python",
   "name": "python3"
  },
  "language_info": {
   "codemirror_mode": {
    "name": "ipython",
    "version": 3
   },
   "file_extension": ".py",
   "mimetype": "text/x-python",
   "name": "python",
   "nbconvert_exporter": "python",
   "pygments_lexer": "ipython3",
   "version": "3.7.6"
  }
 },
 "nbformat": 4,
 "nbformat_minor": 4
}
